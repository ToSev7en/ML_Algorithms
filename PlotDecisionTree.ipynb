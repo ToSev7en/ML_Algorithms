{
 "cells": [
  {
   "cell_type": "code",
   "execution_count": 18,
   "metadata": {},
   "outputs": [],
   "source": [
    "import numpy as np\n",
    "import pandas as pd\n",
    "import matplotlib.pyplot as plt\n",
    "from sklearn import datasets\n",
    "from sklearn.tree import DecisionTreeClassifier"
   ]
  },
  {
   "cell_type": "markdown",
   "metadata": {},
   "source": [
    "#### 加载数据集"
   ]
  },
  {
   "cell_type": "code",
   "execution_count": 40,
   "metadata": {},
   "outputs": [
    {
     "data": {
      "text/html": [
       "<div>\n",
       "<style scoped>\n",
       "    .dataframe tbody tr th:only-of-type {\n",
       "        vertical-align: middle;\n",
       "    }\n",
       "\n",
       "    .dataframe tbody tr th {\n",
       "        vertical-align: top;\n",
       "    }\n",
       "\n",
       "    .dataframe thead th {\n",
       "        text-align: right;\n",
       "    }\n",
       "</style>\n",
       "<table border=\"1\" class=\"dataframe\">\n",
       "  <thead>\n",
       "    <tr style=\"text-align: right;\">\n",
       "      <th></th>\n",
       "      <th>Idx</th>\n",
       "      <th>color</th>\n",
       "      <th>root</th>\n",
       "      <th>knocks</th>\n",
       "      <th>texture</th>\n",
       "      <th>navel</th>\n",
       "      <th>touch</th>\n",
       "      <th>density</th>\n",
       "      <th>sugar_ratio</th>\n",
       "      <th>label</th>\n",
       "    </tr>\n",
       "  </thead>\n",
       "  <tbody>\n",
       "    <tr>\n",
       "      <th>0</th>\n",
       "      <td>1</td>\n",
       "      <td>dark_green</td>\n",
       "      <td>curl_up</td>\n",
       "      <td>little_heavily</td>\n",
       "      <td>distinct</td>\n",
       "      <td>sinking</td>\n",
       "      <td>hard_smooth</td>\n",
       "      <td>0.697</td>\n",
       "      <td>0.460</td>\n",
       "      <td>1</td>\n",
       "    </tr>\n",
       "    <tr>\n",
       "      <th>1</th>\n",
       "      <td>2</td>\n",
       "      <td>black</td>\n",
       "      <td>curl_up</td>\n",
       "      <td>heavily</td>\n",
       "      <td>distinct</td>\n",
       "      <td>sinking</td>\n",
       "      <td>hard_smooth</td>\n",
       "      <td>0.774</td>\n",
       "      <td>0.376</td>\n",
       "      <td>1</td>\n",
       "    </tr>\n",
       "    <tr>\n",
       "      <th>2</th>\n",
       "      <td>3</td>\n",
       "      <td>black</td>\n",
       "      <td>curl_up</td>\n",
       "      <td>little_heavily</td>\n",
       "      <td>distinct</td>\n",
       "      <td>sinking</td>\n",
       "      <td>hard_smooth</td>\n",
       "      <td>0.634</td>\n",
       "      <td>0.264</td>\n",
       "      <td>1</td>\n",
       "    </tr>\n",
       "    <tr>\n",
       "      <th>3</th>\n",
       "      <td>4</td>\n",
       "      <td>dark_green</td>\n",
       "      <td>curl_up</td>\n",
       "      <td>heavily</td>\n",
       "      <td>distinct</td>\n",
       "      <td>sinking</td>\n",
       "      <td>hard_smooth</td>\n",
       "      <td>0.608</td>\n",
       "      <td>0.318</td>\n",
       "      <td>1</td>\n",
       "    </tr>\n",
       "    <tr>\n",
       "      <th>4</th>\n",
       "      <td>5</td>\n",
       "      <td>light_white</td>\n",
       "      <td>curl_up</td>\n",
       "      <td>little_heavily</td>\n",
       "      <td>distinct</td>\n",
       "      <td>sinking</td>\n",
       "      <td>hard_smooth</td>\n",
       "      <td>0.556</td>\n",
       "      <td>0.215</td>\n",
       "      <td>1</td>\n",
       "    </tr>\n",
       "    <tr>\n",
       "      <th>5</th>\n",
       "      <td>6</td>\n",
       "      <td>dark_green</td>\n",
       "      <td>little_curl_up</td>\n",
       "      <td>little_heavily</td>\n",
       "      <td>distinct</td>\n",
       "      <td>little_sinking</td>\n",
       "      <td>soft_stick</td>\n",
       "      <td>0.403</td>\n",
       "      <td>0.237</td>\n",
       "      <td>1</td>\n",
       "    </tr>\n",
       "    <tr>\n",
       "      <th>6</th>\n",
       "      <td>7</td>\n",
       "      <td>black</td>\n",
       "      <td>little_curl_up</td>\n",
       "      <td>little_heavily</td>\n",
       "      <td>little_blur</td>\n",
       "      <td>little_sinking</td>\n",
       "      <td>soft_stick</td>\n",
       "      <td>0.481</td>\n",
       "      <td>0.149</td>\n",
       "      <td>1</td>\n",
       "    </tr>\n",
       "    <tr>\n",
       "      <th>7</th>\n",
       "      <td>8</td>\n",
       "      <td>black</td>\n",
       "      <td>little_curl_up</td>\n",
       "      <td>little_heavily</td>\n",
       "      <td>distinct</td>\n",
       "      <td>little_sinking</td>\n",
       "      <td>hard_smooth</td>\n",
       "      <td>0.437</td>\n",
       "      <td>0.211</td>\n",
       "      <td>1</td>\n",
       "    </tr>\n",
       "    <tr>\n",
       "      <th>8</th>\n",
       "      <td>9</td>\n",
       "      <td>black</td>\n",
       "      <td>little_curl_up</td>\n",
       "      <td>heavily</td>\n",
       "      <td>little_blur</td>\n",
       "      <td>little_sinking</td>\n",
       "      <td>hard_smooth</td>\n",
       "      <td>0.666</td>\n",
       "      <td>0.091</td>\n",
       "      <td>0</td>\n",
       "    </tr>\n",
       "    <tr>\n",
       "      <th>9</th>\n",
       "      <td>10</td>\n",
       "      <td>dark_green</td>\n",
       "      <td>stiff</td>\n",
       "      <td>clear</td>\n",
       "      <td>distinct</td>\n",
       "      <td>even</td>\n",
       "      <td>soft_stick</td>\n",
       "      <td>0.243</td>\n",
       "      <td>0.267</td>\n",
       "      <td>0</td>\n",
       "    </tr>\n",
       "    <tr>\n",
       "      <th>10</th>\n",
       "      <td>11</td>\n",
       "      <td>light_white</td>\n",
       "      <td>stiff</td>\n",
       "      <td>clear</td>\n",
       "      <td>blur</td>\n",
       "      <td>even</td>\n",
       "      <td>hard_smooth</td>\n",
       "      <td>0.245</td>\n",
       "      <td>0.057</td>\n",
       "      <td>0</td>\n",
       "    </tr>\n",
       "    <tr>\n",
       "      <th>11</th>\n",
       "      <td>12</td>\n",
       "      <td>light_white</td>\n",
       "      <td>curl_up</td>\n",
       "      <td>little_heavily</td>\n",
       "      <td>blur</td>\n",
       "      <td>even</td>\n",
       "      <td>soft_stick</td>\n",
       "      <td>0.343</td>\n",
       "      <td>0.099</td>\n",
       "      <td>0</td>\n",
       "    </tr>\n",
       "    <tr>\n",
       "      <th>12</th>\n",
       "      <td>13</td>\n",
       "      <td>dark_green</td>\n",
       "      <td>little_curl_up</td>\n",
       "      <td>little_heavily</td>\n",
       "      <td>little_blur</td>\n",
       "      <td>sinking</td>\n",
       "      <td>hard_smooth</td>\n",
       "      <td>0.639</td>\n",
       "      <td>0.161</td>\n",
       "      <td>0</td>\n",
       "    </tr>\n",
       "    <tr>\n",
       "      <th>13</th>\n",
       "      <td>14</td>\n",
       "      <td>light_white</td>\n",
       "      <td>little_curl_up</td>\n",
       "      <td>heavily</td>\n",
       "      <td>little_blur</td>\n",
       "      <td>sinking</td>\n",
       "      <td>hard_smooth</td>\n",
       "      <td>0.657</td>\n",
       "      <td>0.198</td>\n",
       "      <td>0</td>\n",
       "    </tr>\n",
       "    <tr>\n",
       "      <th>14</th>\n",
       "      <td>15</td>\n",
       "      <td>black</td>\n",
       "      <td>little_curl_up</td>\n",
       "      <td>little_heavily</td>\n",
       "      <td>distinct</td>\n",
       "      <td>little_sinking</td>\n",
       "      <td>soft_stick</td>\n",
       "      <td>0.360</td>\n",
       "      <td>0.370</td>\n",
       "      <td>0</td>\n",
       "    </tr>\n",
       "    <tr>\n",
       "      <th>15</th>\n",
       "      <td>16</td>\n",
       "      <td>light_white</td>\n",
       "      <td>curl_up</td>\n",
       "      <td>little_heavily</td>\n",
       "      <td>blur</td>\n",
       "      <td>even</td>\n",
       "      <td>hard_smooth</td>\n",
       "      <td>0.593</td>\n",
       "      <td>0.042</td>\n",
       "      <td>0</td>\n",
       "    </tr>\n",
       "    <tr>\n",
       "      <th>16</th>\n",
       "      <td>17</td>\n",
       "      <td>dark_green</td>\n",
       "      <td>curl_up</td>\n",
       "      <td>heavily</td>\n",
       "      <td>little_blur</td>\n",
       "      <td>little_sinking</td>\n",
       "      <td>hard_smooth</td>\n",
       "      <td>0.719</td>\n",
       "      <td>0.103</td>\n",
       "      <td>0</td>\n",
       "    </tr>\n",
       "  </tbody>\n",
       "</table>\n",
       "</div>"
      ],
      "text/plain": [
       "    Idx        color            root          knocks      texture  \\\n",
       "0     1   dark_green         curl_up  little_heavily     distinct   \n",
       "1     2        black         curl_up         heavily     distinct   \n",
       "2     3        black         curl_up  little_heavily     distinct   \n",
       "3     4   dark_green         curl_up         heavily     distinct   \n",
       "4     5  light_white         curl_up  little_heavily     distinct   \n",
       "5     6   dark_green  little_curl_up  little_heavily     distinct   \n",
       "6     7        black  little_curl_up  little_heavily  little_blur   \n",
       "7     8        black  little_curl_up  little_heavily     distinct   \n",
       "8     9        black  little_curl_up         heavily  little_blur   \n",
       "9    10   dark_green           stiff           clear     distinct   \n",
       "10   11  light_white           stiff           clear         blur   \n",
       "11   12  light_white         curl_up  little_heavily         blur   \n",
       "12   13   dark_green  little_curl_up  little_heavily  little_blur   \n",
       "13   14  light_white  little_curl_up         heavily  little_blur   \n",
       "14   15        black  little_curl_up  little_heavily     distinct   \n",
       "15   16  light_white         curl_up  little_heavily         blur   \n",
       "16   17   dark_green         curl_up         heavily  little_blur   \n",
       "\n",
       "             navel        touch  density  sugar_ratio  label  \n",
       "0          sinking  hard_smooth    0.697        0.460      1  \n",
       "1          sinking  hard_smooth    0.774        0.376      1  \n",
       "2          sinking  hard_smooth    0.634        0.264      1  \n",
       "3          sinking  hard_smooth    0.608        0.318      1  \n",
       "4          sinking  hard_smooth    0.556        0.215      1  \n",
       "5   little_sinking   soft_stick    0.403        0.237      1  \n",
       "6   little_sinking   soft_stick    0.481        0.149      1  \n",
       "7   little_sinking  hard_smooth    0.437        0.211      1  \n",
       "8   little_sinking  hard_smooth    0.666        0.091      0  \n",
       "9             even   soft_stick    0.243        0.267      0  \n",
       "10            even  hard_smooth    0.245        0.057      0  \n",
       "11            even   soft_stick    0.343        0.099      0  \n",
       "12         sinking  hard_smooth    0.639        0.161      0  \n",
       "13         sinking  hard_smooth    0.657        0.198      0  \n",
       "14  little_sinking   soft_stick    0.360        0.370      0  \n",
       "15            even  hard_smooth    0.593        0.042      0  \n",
       "16  little_sinking  hard_smooth    0.719        0.103      0  "
      ]
     },
     "execution_count": 40,
     "metadata": {},
     "output_type": "execute_result"
    }
   ],
   "source": [
    "pd.read_csv('./watermelon_3a.csv')"
   ]
  },
  {
   "cell_type": "code",
   "execution_count": 111,
   "metadata": {},
   "outputs": [],
   "source": [
    "def load_watermelon(filename):\n",
    "    with open(filename) as f:\n",
    "        lines = f.readlines()\n",
    "        headers = lines[0].strip().split(',')[:-1]\n",
    "        dataset = []\n",
    "        for line in lines[1:]:\n",
    "            line = line.strip().split(',')\n",
    "            dataset.append(line)\n",
    "    return headers, dataset"
   ]
  },
  {
   "cell_type": "code",
   "execution_count": 112,
   "metadata": {},
   "outputs": [],
   "source": [
    "headers, dataset = load_watermelon('./watermelon_3a.csv')"
   ]
  },
  {
   "cell_type": "code",
   "execution_count": 113,
   "metadata": {},
   "outputs": [
    {
     "data": {
      "text/plain": [
       "['Idx',\n",
       " 'color',\n",
       " 'root',\n",
       " 'knocks',\n",
       " 'texture',\n",
       " 'navel',\n",
       " 'touch',\n",
       " 'density',\n",
       " 'sugar_ratio']"
      ]
     },
     "execution_count": 113,
     "metadata": {},
     "output_type": "execute_result"
    }
   ],
   "source": [
    "headers"
   ]
  },
  {
   "cell_type": "markdown",
   "metadata": {},
   "source": [
    "#### 计算香农熵"
   ]
  },
  {
   "cell_type": "code",
   "execution_count": 119,
   "metadata": {},
   "outputs": [],
   "source": [
    "import math\n",
    "\n",
    "def compute_entropy(dataset):\n",
    "    category_dict = {}\n",
    "    for sample in dataset:\n",
    "        category = sample[-1]\n",
    "        if category not in category_dict:\n",
    "            category_dict[category] = 0\n",
    "        category_dict[category] += 1\n",
    "    num = len(dataset)\n",
    "    entropy = 0.0\n",
    "    for i in category_dict:\n",
    "        prob = float(category_dict[i]) / num\n",
    "        entropy -= prob * math.log(prob,2)\n",
    "    return entropy"
   ]
  },
  {
   "cell_type": "code",
   "execution_count": 120,
   "metadata": {},
   "outputs": [
    {
     "data": {
      "text/plain": [
       "0.9975025463691153"
      ]
     },
     "execution_count": 120,
     "metadata": {},
     "output_type": "execute_result"
    }
   ],
   "source": [
    "compute_entropy(dataset)"
   ]
  },
  {
   "cell_type": "markdown",
   "metadata": {},
   "source": [
    "#### 对特定属性选择特定取值后，将满足该条件的剩余数据集组合留待计算香农商"
   ]
  },
  {
   "cell_type": "code",
   "execution_count": 144,
   "metadata": {},
   "outputs": [],
   "source": [
    "def split_dataset(dataset, axis, value):\n",
    "    sub_dataset=[]\n",
    "    for sample in dataset:\n",
    "        if sample[axis] == value:\n",
    "            reducedfeatvec = sample[:axis]\n",
    "            reducedfeatvec.extend(sample[axis+1:])\n",
    "            sub_dataset.append(reducedfeatvec)\n",
    "    return sub_dataset"
   ]
  },
  {
   "cell_type": "markdown",
   "metadata": {},
   "source": [
    "#### 根据信息增益，选择最佳的划分属性"
   ]
  },
  {
   "cell_type": "code",
   "execution_count": 145,
   "metadata": {},
   "outputs": [],
   "source": [
    "def choosebestfeaturetosplit(dataset):\n",
    "    # 计算属性个数\n",
    "    attr_nums = len(dataset[0])\n",
    "    \n",
    "    # 计算整个样本集的香农熵\n",
    "    baseshannon = compute_entropy(dataset)\n",
    "    \n",
    "    bestinfogain = 0.0\n",
    "    bestfeature = -1\n",
    "    \n",
    "    for i in range(attr_nums-1):\n",
    "        # 取出特定属性的所有值。dataset包含了类，但不影响，因为取不到\n",
    "        featlist=[example[i] for example in dataset]\n",
    "        \n",
    "        # 每个属性所含的值\n",
    "        unifeat = set(featlist)   \n",
    "        attrshannon = 0\n",
    "        \n",
    "        for value in unifeat:\n",
    "            subdataset = split_dataset(dataset,i,value)\n",
    "            shannon = compute_entropy(subdataset)  #每个属性值取每个值的香农商\n",
    "            prob = len(subdataset)/float(len(dataset))\n",
    "            attrshannon += prob*shannon\n",
    "            \n",
    "        infogain=baseshannon-attrshannon\n",
    "        \n",
    "        if infogain > bestinfogain:\n",
    "            bestinfogain = infogain\n",
    "            bestfeature = i\n",
    "            \n",
    "    return bestfeature"
   ]
  },
  {
   "cell_type": "code",
   "execution_count": 146,
   "metadata": {},
   "outputs": [],
   "source": [
    "#5、返回样例中类最多的那个类别\n",
    "def majorclass(data):\n",
    "    aa = [sample[-1] for sample in data]   #获取每个样例最后的类别\n",
    "    bb = {}\n",
    "    for i in aa:\n",
    "        bb[i]=aa.count(i)\n",
    "    \n",
    "    # 将字典bb降序排列，书中用的另一种方式\n",
    "    bb= sorted(bb.iteritems(), key=lambda d:d[1], reverse = True)\n",
    "    return bb"
   ]
  },
  {
   "cell_type": "markdown",
   "metadata": {},
   "source": [
    "#### 生成决策树"
   ]
  },
  {
   "cell_type": "code",
   "execution_count": 147,
   "metadata": {},
   "outputs": [],
   "source": [
    "def createtree(dataset, attr_names):  #labels为属性标签\n",
    "    \n",
    "    #情况 1、当所有样例的类别一致时，返回类别\n",
    "    samplelabel = [sample[-1] for sample in dataset]\n",
    "    usamplelabel = list(set(samplelabel))\n",
    "    \n",
    "    if len(usamplelabel)==1:\n",
    "        return usamplelabel[0]\n",
    "\n",
    "    #情况 2、当属性已经用完，则选择类别最多的显示\n",
    "    if len(dataset[0]) == 1:\n",
    "        return majorclass(dataset)\n",
    "\n",
    "    #情况 3：选择最佳划分属性进行划分\n",
    "    bestfeature = choosebestfeaturetosplit(dataset)\n",
    "    bestfeaturelabel = attr_names[bestfeature]\n",
    "    \n",
    "    mytree = {bestfeaturelabel: {}}\n",
    "    \n",
    "    del attr_names[bestfeature]\n",
    "\n",
    "    featurevalue = [sample[bestfeature] for sample in dataset]\n",
    "    ufeaturevalue = set(featurevalue)\n",
    "    for value in ufeaturevalue:\n",
    "        sublabels = attr_names[:]\n",
    "        mytree[bestfeaturelabel][value]=createtree(splitdataset(dataset,bestfeature,value),sublabels)\n",
    "    return mytree"
   ]
  },
  {
   "cell_type": "code",
   "execution_count": 148,
   "metadata": {},
   "outputs": [],
   "source": [
    "mytree = createtree(dataset, headers)"
   ]
  },
  {
   "cell_type": "code",
   "execution_count": 149,
   "metadata": {},
   "outputs": [
    {
     "name": "stdout",
     "output_type": "stream",
     "text": [
      "{'texture': {'3': '1', '15': '0', '5': '1', '4': '1', '6': '1', '17': '0', '10': '0', '11': '0', '1': '1', '7': '1', '8': '1', '2': '1', '12': '0', '13': '0', '16': '0', '9': '0', '14': '0'}}\n",
      "{\"texture\": {\"3\": \"1\", \"15\": \"0\", \"5\": \"1\", \"4\": \"1\", \"6\": \"1\", \"17\": \"0\", \"10\": \"0\", \"11\": \"0\", \"1\": \"1\", \"7\": \"1\", \"8\": \"1\", \"2\": \"1\", \"12\": \"0\", \"13\": \"0\", \"16\": \"0\", \"9\": \"0\", \"14\": \"0\"}}\n"
     ]
    }
   ],
   "source": [
    "import json\n",
    "print(mytree)\n",
    "print(json.dumps(mytree, ensure_ascii=False))"
   ]
  },
  {
   "cell_type": "code",
   "execution_count": 117,
   "metadata": {},
   "outputs": [
    {
     "data": {
      "text/plain": [
       "['color',\n",
       " 'root',\n",
       " 'knocks',\n",
       " 'texture',\n",
       " 'navel',\n",
       " 'touch',\n",
       " 'density',\n",
       " 'sugar_ratio']"
      ]
     },
     "execution_count": 117,
     "metadata": {},
     "output_type": "execute_result"
    }
   ],
   "source": [
    "headers"
   ]
  },
  {
   "cell_type": "markdown",
   "metadata": {},
   "source": [
    "#### 实例化决策树分类器"
   ]
  },
  {
   "cell_type": "code",
   "execution_count": 15,
   "metadata": {},
   "outputs": [],
   "source": [
    "dt_clf = DecisionTreeClassifier()"
   ]
  },
  {
   "cell_type": "code",
   "execution_count": 17,
   "metadata": {},
   "outputs": [
    {
     "data": {
      "text/plain": [
       "DecisionTreeClassifier(class_weight=None, criterion='gini', max_depth=None,\n",
       "            max_features=None, max_leaf_nodes=None,\n",
       "            min_impurity_decrease=0.0, min_impurity_split=None,\n",
       "            min_samples_leaf=1, min_samples_split=2,\n",
       "            min_weight_fraction_leaf=0.0, presort=False, random_state=None,\n",
       "            splitter='best')"
      ]
     },
     "execution_count": 17,
     "metadata": {},
     "output_type": "execute_result"
    }
   ],
   "source": [
    "dt_clf.fit(X, y)"
   ]
  },
  {
   "cell_type": "markdown",
   "metadata": {},
   "source": [
    "#### 绘制决策树"
   ]
  },
  {
   "cell_type": "code",
   "execution_count": null,
   "metadata": {},
   "outputs": [],
   "source": []
  },
  {
   "cell_type": "markdown",
   "metadata": {},
   "source": [
    "#### 决策树设置"
   ]
  },
  {
   "cell_type": "code",
   "execution_count": 9,
   "metadata": {},
   "outputs": [],
   "source": [
    "DescisionNode = {'box_style': 'sawtooth', 'fc': '0.8'}\n",
    "LeafNode = {'box_style': 'round4', 'fc': '0.8'}\n",
    "Arrow = {'arrow_type': '<-'}"
   ]
  },
  {
   "cell_type": "code",
   "execution_count": null,
   "metadata": {},
   "outputs": [],
   "source": []
  },
  {
   "cell_type": "code",
   "execution_count": 133,
   "metadata": {},
   "outputs": [],
   "source": [
    "# 定义文本框和箭头格式\n",
    "decisionNode = dict(boxstyle=\"sawtooth\", fc=\"0.8\")\n",
    "leafNode = dict(boxstyle=\"round4\", fc=\"0.8\")\n",
    "arrow_args = dict(arrowstyle=\"<-\")\n",
    "\n",
    "\n",
    "# 获取叶节点的数目\n",
    "def getNumLeafs(myTree):\n",
    "    numLeafs = 0\n",
    "    firstStr = myTree.keys()[0]\n",
    "    secondDict = myTree[firstStr]\n",
    "    for key in secondDict.keys():\n",
    "        # 测试节点的数据类型是否为字典\n",
    "        if type(secondDict[key]).__name__=='dict':\n",
    "            numLeafs += getNumLeafs(secondDict[key])\n",
    "        # 如果不是，则为叶节点\n",
    "        else:\n",
    "            numLeafs +=1\n",
    "    return numLeafs"
   ]
  },
  {
   "cell_type": "code",
   "execution_count": 135,
   "metadata": {},
   "outputs": [],
   "source": [
    "# 树的层数\n",
    "def getTreeDepth(myTree):\n",
    "    maxDepth = 0\n",
    "    firstStr = myTree.keys()[0]\n",
    "    secondDict = myTree[firstStr]\n",
    "    for key in secondDict.keys():\n",
    "    \t# 测试节点的数据类型是否为字典\n",
    "        if type(secondDict[key]).__name__=='dict':\n",
    "            thisDepth = 1 + getTreeDepth(secondDict[key])\n",
    "        else:   thisDepth = 1\n",
    "        if thisDepth > maxDepth: maxDepth = thisDepth\n",
    "    return maxDepth\n",
    "\n",
    "\n",
    "# 画节点\n",
    "def plotNode(nodeTxt, centerPt, parentPt, nodeType):\n",
    "    createPlot.ax1.annotate(nodeTxt, xy=parentPt,  xycoords='axes fraction',\n",
    "             xytext=centerPt, textcoords='axes fraction',\n",
    "             va=\"center\", ha=\"center\", bbox=nodeType, arrowprops=arrow_args )\n",
    "\n",
    "\n",
    "# 在父子节点之间添加文本信息\n",
    "def plotMidText(cntrPt, parentPt, txtString):\n",
    "    xMid = (parentPt[0]-cntrPt[0])/2.0 + cntrPt[0]\n",
    "    yMid = (parentPt[1]-cntrPt[1])/2.0 + cntrPt[1]\n",
    "    createPlot.ax1.text(xMid, yMid, txtString, va=\"center\", ha=\"center\", rotation=30)"
   ]
  },
  {
   "cell_type": "code",
   "execution_count": 137,
   "metadata": {},
   "outputs": [],
   "source": [
    "# 画树\n",
    "def plotTree(myTree, parentPt, nodeTxt):\n",
    "\t# 计算树在x轴的宽\n",
    "    numLeafs = getNumLeafs(myTree)\n",
    "    # 计算树在y轴的高\n",
    "    depth = getTreeDepth(myTree)\n",
    "    firstStr = myTree.keys()[0]\n",
    "    # plotTree.xOff和plotTree.yOff追踪已经绘制的节点位置并表示下一个节点的恰当位置\n",
    "    cntrPt = (plotTree.xOff + (1.0 + float(numLeafs))/2.0/plotTree.totalW, plotTree.yOff)\n",
    "    plotMidText(cntrPt, parentPt, nodeTxt)\n",
    "    plotNode(firstStr, cntrPt, parentPt, decisionNode)\n",
    "    secondDict = myTree[firstStr]\n",
    "    # 按比例减少全局变量\n",
    "    plotTree.yOff = plotTree.yOff - 1.0/plotTree.totalD\n",
    "    for key in secondDict.keys():\n",
    "    \t# 测试节点的数据类型是否为字典\n",
    "        if type(secondDict[key]).__name__=='dict':\n",
    "        \t# 递归调用\n",
    "            plotTree(secondDict[key],cntrPt,str(key))\n",
    "        # 如果不是，则为叶节点\n",
    "        else:\n",
    "            plotTree.xOff = plotTree.xOff + 1.0/plotTree.totalW\n",
    "            plotNode(secondDict[key], (plotTree.xOff, plotTree.yOff), cntrPt, leafNode)\n",
    "            plotMidText((plotTree.xOff, plotTree.yOff), cntrPt, str(key))\n",
    "    plotTree.yOff = plotTree.yOff + 1.0/plotTree.totalD"
   ]
  },
  {
   "cell_type": "code",
   "execution_count": 138,
   "metadata": {},
   "outputs": [],
   "source": [
    "# 创建绘图\n",
    "def createPlot(inTree):\n",
    "    fig = plt.figure(1, facecolor='white')\n",
    "    fig.clf()\n",
    "    axprops = dict(xticks=[], yticks=[])\n",
    "    createPlot.ax1 = plt.subplot(111, frameon=False, **axprops)    #no ticks\n",
    "    #createPlot.ax1 = plt.subplot(111, frameon=False) #ticks for demo puropses \n",
    "    plotTree.totalW = float(getNumLeafs(inTree))\n",
    "    plotTree.totalD = float(getTreeDepth(inTree))\n",
    "    plotTree.xOff = -0.5/plotTree.totalW; plotTree.yOff = 1.0;\n",
    "    plotTree(inTree, (0.5,1.0), '')\n",
    "    plt.show()\n",
    "\n",
    "\n",
    "# 输出预先存储的树信息\n",
    "def retrieveTree(i):\n",
    "    listOfTrees =[{'no surfacing': {0: 'no', 1: {'flippers': {0: 'no', 1: 'yes'}}}},\n",
    "                  {'no surfacing': {0: 'no', 1: {'flippers': {0: {'head': {0: 'no', 1: 'yes'}}, 1: 'no'}}}}\n",
    "                  ]\n",
    "    return listOfTrees[i]"
   ]
  },
  {
   "cell_type": "code",
   "execution_count": null,
   "metadata": {},
   "outputs": [],
   "source": []
  }
 ],
 "metadata": {
  "kernelspec": {
   "display_name": "Python 3",
   "language": "python",
   "name": "python3"
  },
  "language_info": {
   "codemirror_mode": {
    "name": "ipython",
    "version": 3
   },
   "file_extension": ".py",
   "mimetype": "text/x-python",
   "name": "python",
   "nbconvert_exporter": "python",
   "pygments_lexer": "ipython3",
   "version": "3.6.2"
  }
 },
 "nbformat": 4,
 "nbformat_minor": 2
}
